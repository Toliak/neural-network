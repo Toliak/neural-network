{
 "cells": [
  {
   "cell_type": "code",
   "execution_count": 31,
   "metadata": {
    "collapsed": true,
    "pycharm": {
     "is_executing": false
    }
   },
   "outputs": [
    {
     "data": {
      "text/plain": "<Figure size 576x576 with 1 Axes>",
      "image/png": "[encoded data removed]"
     },
     "metadata": {
      "needs_background": "light"
     },
     "output_type": "display_data"
    }
   ],
   "source": [
    "from skimage.filters import rank\n",
    "from skimage.morphology import disk\n",
    "from sklearn import mixture\n",
    "import Dataset\n",
    "from Utils import visualize\n",
    "\n",
    "original = Dataset.load_by_path('small.png')\n",
    "visualize(original, 'original')"
   ]
  },
  {
   "cell_type": "code",
   "execution_count": 33,
   "outputs": [],
   "source": [
    "from SpectralClustering import SpectralClustering\n",
    "\n",
    "clusterize = SpectralClustering([original],\n",
    "                        graph_beta=5,\n",
    "                        graph_eps=0,\n",
    "                        max_transform_size=256)\n",
    "\n",
    "result = clusterize.apply(n_clusters=5, \n",
    "                          n_init=1,\n",
    "                          eigen_solver='amg',\n",
    "                          assign_labels='discretize', \n",
    "                          random_state=1)\n",
    "\n",
    "# visualize(clusterize.labels, 'labels')"
   ],
   "metadata": {
    "collapsed": false,
    "pycharm": {
     "name": "#%%\n",
     "is_executing": false
    }
   }
  },
  {
   "cell_type": "code",
   "execution_count": null,
   "outputs": [],
   "source": [
    "import matplotlib.pyplot as plot\n",
    "from scipy.sparse import coo_matrix\n",
    "\n",
    "graph: coo_matrix = clusterize.graph_list[0]\n",
    "\n",
    "plot.scatter(graph.row,\n",
    "             graph.col,\n",
    "             s=50,\n",
    "             c=graph.data,\n",
    "             marker=\"o\")\n",
    "# plot.xlim((510, 515))\n",
    "# plot.ylim((255, 260))\n",
    "plot.grid()\n",
    "plot.show()"
   ],
   "metadata": {
    "collapsed": false,
    "pycharm": {
     "name": "#%%\n",
     "is_executing": false
    }
   }
  },
  {
   "cell_type": "code",
   "execution_count": null,
   "outputs": [],
   "source": [
    "from math import ceil\n",
    "\n",
    "def display_all(images, size):\n",
    "    plot.figure(figsize=size)\n",
    "    \n",
    "    row_amount = ceil(len(images) / 5)\n",
    "    for i, img in enumerate(images):\n",
    "        plot.subplot(row_amount, 5, i+1)\n",
    "        plot.imshow(img)\n",
    "        plot.title(f'image {i}')\n",
    "        \n",
    "display_all(result, (8, 6))"
   ],
   "metadata": {
    "collapsed": false,
    "pycharm": {
     "name": "#%%\n",
     "is_executing": false
    }
   }
  },
  {
   "cell_type": "code",
   "execution_count": null,
   "outputs": [],
   "source": [
    "clusterize = SpectralClustering(result, 5, 0)\n",
    "\n",
    "result = clusterize.apply(n_clusters=5, \n",
    "                          n_init=1,\n",
    "                          eigen_solver='amg',\n",
    "                          assign_labels='kmeans', \n",
    "                          random_state=1)\n",
    "\n",
    "# visualize(clusterize.labels, 'labels')"
   ],
   "metadata": {
    "collapsed": false,
    "pycharm": {
     "name": "#%%\n",
     "is_executing": false
    }
   }
  },
  {
   "cell_type": "code",
   "execution_count": null,
   "outputs": [],
   "source": [
    "display_all(result, (10, 30))\n"
   ],
   "metadata": {
    "collapsed": false,
    "pycharm": {
     "name": "#%%\n",
     "is_executing": false
    }
   }
  },
  {
   "cell_type": "code",
   "execution_count": null,
   "outputs": [],
   "source": [
    "clusterize = SpectralClustering(result, 5, 0)\n",
    "\n",
    "result = clusterize.apply(n_clusters=5,\n",
    "                          n_init=1,\n",
    "                          eigen_solver='amg',\n",
    "                          assign_labels='discretize', \n",
    "                          random_state=1)\n",
    "\n",
    "# visualize(clusterize.labels, 'labels')"
   ],
   "metadata": {
    "collapsed": false,
    "pycharm": {
     "name": "#%%\n",
     "is_executing": false
    }
   }
  },
  {
   "cell_type": "code",
   "execution_count": null,
   "outputs": [],
   "source": [
    "display_all(result, (10, 60))\n"
   ],
   "metadata": {
    "collapsed": false,
    "pycharm": {
     "name": "#%%\n",
     "is_executing": false
    }
   }
  }
 ],
 "metadata": {
  "kernelspec": {
   "display_name": "Python 3",
   "language": "python",
   "name": "python3"
  },
  "language_info": {
   "codemirror_mode": {
    "name": "ipython",
    "version": 2
   },
   "file_extension": ".py",
   "mimetype": "text/x-python",
   "name": "python",
   "nbconvert_exporter": "python",
   "pygments_lexer": "ipython2",
   "version": "2.7.6"
  },
  "pycharm": {
   "stem_cell": {
    "cell_type": "raw",
    "source": [],
    "metadata": {
     "collapsed": false
    }
   }
  }
 },
 "nbformat": 4,
 "nbformat_minor": 0
}